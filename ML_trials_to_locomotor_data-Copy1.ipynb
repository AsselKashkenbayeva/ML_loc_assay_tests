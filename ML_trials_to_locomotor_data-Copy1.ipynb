{
 "cells": [
  {
   "cell_type": "code",
   "execution_count": 22,
   "metadata": {
    "collapsed": false,
    "deletable": true,
    "editable": true
   },
   "outputs": [
    {
     "data": {
      "text/plain": [
       "<bound method NDFrame.head of         VAR1   VAR2  LABEL  VAR3\n",
       "0          1   0.01      6     1\n",
       "1          1   0.02      5     2\n",
       "2          1   0.03      5     3\n",
       "3          1   0.04     42     4\n",
       "4          1   0.05     81     5\n",
       "5          1   0.06     71     6\n",
       "6          1   0.07     78     7\n",
       "7          1   0.08     69     8\n",
       "8          1   0.09     53     9\n",
       "9          1   0.10     42    10\n",
       "10         1   0.11     63    11\n",
       "11         1   0.12     75    12\n",
       "12         1   0.13     59    13\n",
       "13         1   0.14     73    14\n",
       "14         1   0.15     79    15\n",
       "15         0   0.16     57    16\n",
       "16         0   0.17    106    17\n",
       "17         0   0.18     88    18\n",
       "18         0   0.19     68    19\n",
       "19         0   0.20     29    20\n",
       "20         0   0.21     38    21\n",
       "21         0   0.22     58    22\n",
       "22         0   0.23     58    23\n",
       "23         0   0.24     38    24\n",
       "24         0   0.25     43    25\n",
       "25         0   0.26     79    26\n",
       "26         0   0.27     21    27\n",
       "27         0   0.28     44    28\n",
       "28         0   0.29     94    29\n",
       "29         0   0.30     38    30\n",
       "...      ...    ...    ...   ...\n",
       "143970     0  23.31    123  2331\n",
       "143971     0  23.32     60  2332\n",
       "143972     0  23.33     88  2333\n",
       "143973     0  23.34    108  2334\n",
       "143974     0  23.35     79  2335\n",
       "143975     0  23.36     83  2336\n",
       "143976     0  23.37    108  2337\n",
       "143977     0  23.38    104  2338\n",
       "143978     0  23.39     64  2339\n",
       "143979     0  23.40     90  2340\n",
       "143980     0  23.41     71  2341\n",
       "143981     0  23.42     29  2342\n",
       "143982     0  23.43     53  2343\n",
       "143983     0  23.44     44  2344\n",
       "143984     0  23.45    112  2345\n",
       "143985     0  23.46    105  2346\n",
       "143986     0  23.47     32  2347\n",
       "143987     0  23.48     29  2348\n",
       "143988     0  23.49     35  2349\n",
       "143989     0  23.50     31  2350\n",
       "143990     0  23.51     27  2351\n",
       "143991     0  23.52     55  2352\n",
       "143992     0  23.53     97  2353\n",
       "143993     0  23.54     99  2354\n",
       "143994     0  23.55     72  2355\n",
       "143995     0  23.56     94  2356\n",
       "143996     0  23.57     35  2357\n",
       "143997     0  23.58     55  2358\n",
       "143998     0  23.59     56  2359\n",
       "143999     0  23.60     34  2360\n",
       "\n",
       "[144000 rows x 4 columns]>"
      ]
     },
     "execution_count": 22,
     "metadata": {},
     "output_type": "execute_result"
    }
   ],
   "source": [
    "abs_path = r'C:\\Users\\Assel\\Desktop\\ML_trial2.csv'\n",
    "from pandas import read_csv\n",
    "df = read_csv(abs_path)\n",
    "df.head"
   ]
  },
  {
   "cell_type": "code",
   "execution_count": 12,
   "metadata": {
    "collapsed": false,
    "deletable": true,
    "editable": true
   },
   "outputs": [],
   "source": [
    "df['VAR2'];"
   ]
  },
  {
   "cell_type": "code",
   "execution_count": 7,
   "metadata": {
    "collapsed": true,
    "deletable": true,
    "editable": true
   },
   "outputs": [],
   "source": [
    "from numpy import reshape\n",
    "X = df['VAR2'].values\n",
    "y = df['LABEL'].values\n",
    "X = X.reshape(-1,1)\n",
    "from sklearn.ensemble import RandomForestRegressor\n",
    "from sklearn.model_selection import train_test_split\n",
    "RANDOM_STATES = 1234\n",
    "X_train, X_test, y_train, y_test = train_test_split(X,y, test_size=.3, random_state= RANDOM_STATES,shuffle = True)"
   ]
  },
  {
   "cell_type": "code",
   "execution_count": 8,
   "metadata": {
    "collapsed": false,
    "deletable": true,
    "editable": true
   },
   "outputs": [
    {
     "data": {
      "text/plain": [
       "RandomForestRegressor(bootstrap=True, criterion='mse', max_depth=None,\n",
       "           max_features='auto', max_leaf_nodes=None,\n",
       "           min_impurity_decrease=0.0, min_impurity_split=None,\n",
       "           min_samples_leaf=1, min_samples_split=2,\n",
       "           min_weight_fraction_leaf=0.0, n_estimators=10, n_jobs=1,\n",
       "           oob_score=False, random_state=None, verbose=0, warm_start=False)"
      ]
     },
     "execution_count": 8,
     "metadata": {},
     "output_type": "execute_result"
    }
   ],
   "source": [
    "clf = RandomForestRegressor()\n",
    "clf.fit(X_train,y_train)"
   ]
  },
  {
   "cell_type": "code",
   "execution_count": 9,
   "metadata": {
    "collapsed": false,
    "deletable": true,
    "editable": true
   },
   "outputs": [
    {
     "data": {
      "text/plain": [
       "<matplotlib.collections.PathCollection at 0xbed40b8>"
      ]
     },
     "execution_count": 9,
     "metadata": {},
     "output_type": "execute_result"
    },
    {
     "data": {
      "image/png": "[encoded data removed]",
      "text/plain": [
       "<matplotlib.figure.Figure at 0xbe624a8>"
      ]
     },
     "metadata": {},
     "output_type": "display_data"
    }
   ],
   "source": [
    "yy_test = clf.predict(X_test)\n",
    "%matplotlib inline\n",
    "from matplotlib.pyplot import subplots\n",
    "\n",
    "fig, ax = subplots()\n",
    "\n",
    "ax.scatter(X_test,yy_test)"
   ]
  },
  {
   "cell_type": "code",
   "execution_count": 23,
   "metadata": {
    "collapsed": false,
    "deletable": true,
    "editable": true
   },
   "outputs": [
    {
     "data": {
      "text/plain": [
       "(43200, 2)"
      ]
     },
     "execution_count": 23,
     "metadata": {},
     "output_type": "execute_result"
    }
   ],
   "source": [
    "from numpy import meshgrid\n",
    "v1 = df['VAR2'].values\n",
    "v2 = df['VAR1'].values\n",
    "\n",
    "v1 = v1.reshape(-1,1)\n",
    "v2 = v2.reshape(-1,1)\n",
    "v1.shape\n",
    "\n",
    "from numpy import concatenate\n",
    "\n",
    "y = df['LABEL'].values\n",
    "\n",
    "X = concatenate((v1,v2), axis=1)\n",
    "\n",
    "X_train, X_test, y_train, y_test = train_test_split(X,y, test_size=.3, random_state= RANDOM_STATES,shuffle = True)\n",
    "clf = RandomForestRegressor()\n",
    "\n",
    "clf.fit(X_train,y_train)\n",
    "yy_test = clf.predict(X_test)\n",
    "X_test.shape"
   ]
  },
  {
   "cell_type": "code",
   "execution_count": 24,
   "metadata": {
    "collapsed": false,
    "deletable": true,
    "editable": true
   },
   "outputs": [
    {
     "name": "stdout",
     "output_type": "stream",
     "text": [
      "Grid A shape: (100, 2359) - size: 235900\n",
      "Grid B shape: (100, 2359) - size: 235900\n",
      "Shape: (235900, 2) - size: 471800\n"
     ]
    }
   ],
   "source": [
    "from numpy import mgrid\n",
    "\n",
    "\n",
    "grid_step = 0.01\n",
    "\n",
    "grid_a, grid_b = mgrid[0:1:grid_step, 0.01:23.6:grid_step]\n",
    "\n",
    "\n",
    "print('Grid A shape:', grid_a.shape, '- size:', grid_a.size)\n",
    "print('Grid B shape:', grid_b.shape, '- size:', grid_b.size)\n",
    "\n",
    "from numpy import c_\n",
    "\n",
    "grid_a_flat = grid_a.ravel()\n",
    "grid_b_flat = grid_b.ravel()\n",
    "\n",
    "\n",
    "new_obs = c_[grid_a_flat, grid_b_flat]\n",
    "\n",
    "\n",
    "print('Shape:', new_obs.shape, '- size:', new_obs.size)"
   ]
  },
  {
   "cell_type": "code",
   "execution_count": 25,
   "metadata": {
    "collapsed": false,
    "deletable": true,
    "editable": true
   },
   "outputs": [
    {
     "data": {
      "image/png": "[encoded data removed]",
      "text/plain": [
       "<matplotlib.figure.Figure at 0xbf5be48>"
      ]
     },
     "metadata": {},
     "output_type": "display_data"
    }
   ],
   "source": [
    "predictions = clf.predict(new_obs)\n",
    "fig, ax = subplots(figsize=(5, 5))\n",
    "feature_a, feature_b = 0,1\n",
    "# ax.set_xlim(0, 1)\n",
    "# ax.set_ylim(0, 1);\n",
    "\n",
    "\n",
    "cax= ax.scatter(new_obs[:, feature_a], new_obs[:, feature_b], c=predictions);\n",
    "\n",
    "# ax.set_xlim(0, 1)\n",
    "# ax.set_ylim(0, 1);\n"
   ]
  },
  {
   "cell_type": "code",
   "execution_count": 157,
   "metadata": {
    "collapsed": false,
    "deletable": true,
    "editable": true
   },
   "outputs": [
    {
     "data": {
      "text/plain": [
       "array([0.75853617, 0.24146383])"
      ]
     },
     "execution_count": 157,
     "metadata": {},
     "output_type": "execute_result"
    }
   ],
   "source": [
    "clf.feature_importances_"
   ]
  },
  {
   "cell_type": "code",
   "execution_count": 79,
   "metadata": {
    "collapsed": false,
    "deletable": true,
    "editable": true
   },
   "outputs": [
    {
     "data": {
      "text/plain": [
       "(43200,)"
      ]
     },
     "execution_count": 79,
     "metadata": {},
     "output_type": "execute_result"
    }
   ],
   "source": [
    "X_test.shape\n",
    "grid_shape = X_test[:,1].shape\n",
    "yy_test_grid = yy_test.reshape(grid_shape)\n",
    "yy_test_grid.shape"
   ]
  },
  {
   "cell_type": "code",
   "execution_count": null,
   "metadata": {
    "collapsed": true,
    "deletable": true,
    "editable": true
   },
   "outputs": [],
   "source": [
    "V1_train, V1_test, y1_train, y1_test = train_test_split(v1,y, test_size=.3, random_state= RANDOM_STATES,shuffle = True)\n",
    "V2_train, V2_test, y2_train, y2_test = train_test_split(v2,y, test_size=.3, random_state= RANDOM_STATES,shuffle = True)\n",
    "g1,g2 = meshgrid(V1_train,V2_train)\n",
    "\n",
    "g1_flat = g1.ravel()\n",
    "g2_flat = g2.ravel()\n",
    "\n",
    "X_t"
   ]
  }
 ],
 "metadata": {
  "kernelspec": {
   "display_name": "Python 3",
   "language": "python",
   "name": "python3"
  },
  "language_info": {
   "codemirror_mode": {
    "name": "ipython",
    "version": 3
   },
   "file_extension": ".py",
   "mimetype": "text/x-python",
   "name": "python",
   "nbconvert_exporter": "python",
   "pygments_lexer": "ipython3",
   "version": "3.5.2"
  }
 },
 "nbformat": 4,
 "nbformat_minor": 2
}
