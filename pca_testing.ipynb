{
 "cells": [
  {
   "cell_type": "code",
   "execution_count": 23,
   "metadata": {},
   "outputs": [
    {
     "data": {
      "text/plain": [
       "<bound method NDFrame.head of      baseline  normalisation      gain  mutant\n",
       "0      608.25         422.00  0.733921       1\n",
       "1      336.25         388.50  1.065835       1\n",
       "2      381.00         432.50  1.189593       1\n",
       "3      322.75         206.25  0.642242       1\n",
       "4      451.50         866.75  2.260258       1\n",
       "5      183.00         951.75  2.341137       1\n",
       "6      452.50         475.25  0.954952       1\n",
       "7      274.25         176.00  0.523012       1\n",
       "8      306.50         784.75  2.098301       1\n",
       "9      374.00         209.75  0.292934       1\n",
       "10     483.00         298.50  0.582757       1\n",
       "11     494.50         577.25       NaN       1\n",
       "12     404.00         657.75  1.263665       1\n",
       "13     508.25         311.75  0.491592       1\n",
       "14     372.25         302.75  0.822864       1\n",
       "15     659.50         192.50  0.200668       1\n",
       "16     273.75         330.50  0.323868       1\n",
       "17     238.25         283.50  0.604439       1\n",
       "18     608.25         296.25  0.413630       1\n",
       "19     526.50         394.25  0.534945       1\n",
       "20     316.75          -9.00 -0.075742       1\n",
       "21     686.75          71.25  0.108969       1\n",
       "22     528.75         458.00  0.540696       1\n",
       "23     423.50          83.75  0.168484       1\n",
       "24     330.50         211.25  0.365147       1\n",
       "25     389.50         485.50  0.996163       1\n",
       "26     294.75         360.50  0.663540       1\n",
       "27     378.00         383.00  0.692661       1\n",
       "28     324.50         326.50  1.268816       1\n",
       "29     557.50         377.50  0.609088       1\n",
       "..        ...            ...       ...     ...\n",
       "530    531.50         624.75  0.968211       3\n",
       "531    645.50         830.75  1.309325       3\n",
       "532    708.25         583.75  0.814955       3\n",
       "533    412.75         473.25  0.963339       3\n",
       "534    473.00         288.50  0.437298       3\n",
       "535    211.00         401.00  0.955345       3\n",
       "536    319.00         350.75  0.937395       3\n",
       "537    977.50         659.75  0.700979       3\n",
       "538    535.00         487.25  1.142541       3\n",
       "539    326.00         667.50  1.919508       3\n",
       "540    467.00         535.75  0.920221       3\n",
       "541    278.00         713.50  2.010788       3\n",
       "542    294.25         550.75  1.636905       3\n",
       "543    349.00         420.50  1.167018       3\n",
       "544    568.75         237.75  0.401054       3\n",
       "545   1231.00         257.50  0.174366       3\n",
       "546    589.50         376.25  0.481846       3\n",
       "547    479.75        1041.25  2.052309       3\n",
       "548    535.75         498.50  0.797743       3\n",
       "549    128.50         558.00  1.710533       3\n",
       "550    558.25         634.50  0.947770       3\n",
       "551    441.25         320.00  0.657717       3\n",
       "552    350.25         599.75  1.692546       3\n",
       "553    585.50         169.50  0.241538       3\n",
       "554    616.50         469.00  0.711659       3\n",
       "555    550.00         549.50  0.550235       3\n",
       "556    565.25         578.50  0.901093       3\n",
       "557    482.00         317.25  0.649757       3\n",
       "558    565.25         636.50  0.904307       3\n",
       "559    756.25         316.25  0.499691       3\n",
       "\n",
       "[560 rows x 4 columns]>"
      ]
     },
     "execution_count": 23,
     "metadata": {},
     "output_type": "execute_result"
    }
   ],
   "source": [
    "abs_path = r'C:\\Users\\Assel\\Desktop\\For_machine_learning_dataset_2.csv'\n",
    "from pandas import read_csv\n",
    "df = read_csv(abs_path)\n",
    "df.head"
   ]
  },
  {
   "cell_type": "code",
   "execution_count": 24,
   "metadata": {},
   "outputs": [],
   "source": [
    "#splitting into features and labels\n",
    "from numpy import reshape\n",
    "X = df.iloc[:,0:2].values\n",
    "y = df.iloc[:,3].values"
   ]
  },
  {
   "cell_type": "code",
   "execution_count": 25,
   "metadata": {},
   "outputs": [],
   "source": [
    "#splitting into test and training set\n",
    "from sklearn.model_selection import train_test_split\n",
    "X_train, X_test, y_train, y_test = train_test_split(X,y,test_size = 0.2, random_state = 0)"
   ]
  },
  {
   "cell_type": "code",
   "execution_count": 26,
   "metadata": {},
   "outputs": [],
   "source": [
    "#feature scaling\n",
    "from sklearn.preprocessing import StandardScaler\n",
    "sc = StandardScaler()\n",
    "X_train = sc.fit_transform(X_train)\n",
    "X_test = sc.transform(X_test)"
   ]
  },
  {
   "cell_type": "code",
   "execution_count": 33,
   "metadata": {},
   "outputs": [],
   "source": [
    "#t-SNE\n",
    "from sklearn.manifold import TSNE\n",
    "tsne = TSNE(n_components = 2)\n",
    "X_train = tsne.fit_transform(X_train)\n",
    "X_test = tsne.fit_transform(X_test)"
   ]
  },
  {
   "cell_type": "code",
   "execution_count": 27,
   "metadata": {},
   "outputs": [
    {
     "data": {
      "text/plain": [
       "array([0.58904198, 0.41095802])"
      ]
     },
     "execution_count": 27,
     "metadata": {},
     "output_type": "execute_result"
    }
   ],
   "source": [
    "#PCA\n",
    "from sklearn.decomposition import PCA\n",
    "pca = PCA(n_components = 2)\n",
    "X_train = pca.fit_transform(X_train)\n",
    "X_test = pca.fit_transform(X_test)\n",
    "explained_variance = pca.explained_variance_ratio_\n",
    "explained_variance"
   ]
  },
  {
   "cell_type": "code",
   "execution_count": 45,
   "metadata": {},
   "outputs": [],
   "source": [
    "#lDA\n",
    "from sklearn.discriminant_analysis import LinearDiscriminantAnalysis as LDA\n",
    "lda = LDA(n_components = 2)\n",
    "X_train = lda.fit_transform(X_train, y_train)\n",
    "X_test = lda.transform(X_test)"
   ]
  },
  {
   "cell_type": "code",
   "execution_count": 40,
   "metadata": {},
   "outputs": [
    {
     "data": {
      "text/plain": [
       "LogisticRegression(C=1.0, class_weight=None, dual=False, fit_intercept=True,\n",
       "          intercept_scaling=1, max_iter=100, multi_class='ovr', n_jobs=1,\n",
       "          penalty='l2', random_state=0, solver='liblinear', tol=0.0001,\n",
       "          verbose=0, warm_start=False)"
      ]
     },
     "execution_count": 40,
     "metadata": {},
     "output_type": "execute_result"
    }
   ],
   "source": [
    "#fit logistic regression to the training set\n",
    "from sklearn.linear_model import LogisticRegression\n",
    "classifier = LogisticRegression(random_state = 0)\n",
    "classifier.fit(X_train,y_train)"
   ]
  },
  {
   "cell_type": "code",
   "execution_count": 46,
   "metadata": {},
   "outputs": [
    {
     "data": {
      "text/plain": [
       "RandomForestClassifier(bootstrap=True, class_weight=None, criterion='gini',\n",
       "            max_depth=None, max_features='auto', max_leaf_nodes=None,\n",
       "            min_impurity_decrease=0.0, min_impurity_split=None,\n",
       "            min_samples_leaf=1, min_samples_split=2,\n",
       "            min_weight_fraction_leaf=0.0, n_estimators=10, n_jobs=1,\n",
       "            oob_score=False, random_state=None, verbose=0,\n",
       "            warm_start=False)"
      ]
     },
     "execution_count": 46,
     "metadata": {},
     "output_type": "execute_result"
    }
   ],
   "source": [
    "#fit logistic regression to the training set\n",
    "from sklearn.ensemble import RandomForestClassifier\n",
    "classifier = RandomForestClassifier()\n",
    "classifier.fit(X_train,y_train)"
   ]
  },
  {
   "cell_type": "code",
   "execution_count": 47,
   "metadata": {},
   "outputs": [],
   "source": [
    "y_pred = classifier.predict(X_test)"
   ]
  },
  {
   "cell_type": "code",
   "execution_count": 48,
   "metadata": {},
   "outputs": [],
   "source": [
    "from sklearn.metrics import confusion_matrix\n",
    "cm = confusion_matrix(y_test,y_pred)"
   ]
  },
  {
   "cell_type": "code",
   "execution_count": 49,
   "metadata": {},
   "outputs": [
    {
     "data": {
      "text/plain": [
       "array([[20,  5,  9],\n",
       "       [17,  7, 13],\n",
       "       [19,  9, 13]], dtype=int64)"
      ]
     },
     "execution_count": 49,
     "metadata": {},
     "output_type": "execute_result"
    }
   ],
   "source": [
    "\n",
    "#to obtain the success of pca, divide the sum of accurate predictions in the confusion matrix by the overall sum in y_test\n",
    "#the score for this is 46%\n",
    "X_train.shape;\n",
    "cm"
   ]
  },
  {
   "cell_type": "code",
   "execution_count": 50,
   "metadata": {},
   "outputs": [
    {
     "data": {
      "image/png": "[encoded data removed]",
      "text/plain": [
       "<Figure size 432x288 with 1 Axes>"
      ]
     },
     "metadata": {
      "needs_background": "light"
     },
     "output_type": "display_data"
    }
   ],
   "source": [
    "from matplotlib.colors import ListedColormap\n",
    "%matplotlib inline\n",
    "import matplotlib.pyplot as plt\n",
    "import numpy as np\n",
    "X_set, y_set = X_train, y_train\n",
    "X1, X2 = np.meshgrid(np.arange(start = X_set[:,0].min() - 1, stop = X_set[:,0].max() +1, step = 0.01),\n",
    "               np.arange(start = X_set[:,1].min() - 1, stop = X_set[:,1].max() +1, step = 0.01))\n",
    "plt.contourf(X1,X2, classifier.predict(np.array([X1.ravel(), X2.ravel()]).T).reshape(X1.shape),alpha = 0.75, cmap = ListedColormap(('red','green','blue')))\n",
    "plt.xlim(X1.min(), X1.max())\n",
    "plt.ylim(X2.min(),X2.max())\n",
    "for i, j in enumerate(np.unique(y_set)):\n",
    "    plt.scatter(X_set[y_set == j, 0], X_set[y_set == j, 1], c = ListedColormap(('red','green', 'blue'))(i),label = j)\n",
    "plt.title('PCA')\n",
    "plt.xlabel('PCA1')\n",
    "plt.ylabel('PCA2')\n",
    "plt.show()"
   ]
  }
 ],
 "metadata": {
  "kernelspec": {
   "display_name": "Python 3",
   "language": "python",
   "name": "python3"
  },
  "language_info": {
   "codemirror_mode": {
    "name": "ipython",
    "version": 3
   },
   "file_extension": ".py",
   "mimetype": "text/x-python",
   "name": "python",
   "nbconvert_exporter": "python",
   "pygments_lexer": "ipython3",
   "version": "3.7.0"
  }
 },
 "nbformat": 4,
 "nbformat_minor": 2
}
